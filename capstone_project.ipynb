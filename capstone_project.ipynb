{
  "nbformat": 4,
  "nbformat_minor": 0,
  "metadata": {
    "colab": {
      "provenance": [],
      "authorship_tag": "ABX9TyMPWnSQi1I1hr+duByHDkFD",
      "include_colab_link": true
    },
    "kernelspec": {
      "name": "python3",
      "display_name": "Python 3"
    },
    "language_info": {
      "name": "python"
    }
  },
  "cells": [
    {
      "cell_type": "markdown",
      "metadata": {
        "id": "view-in-github",
        "colab_type": "text"
      },
      "source": [
        "<a href=\"https://colab.research.google.com/github/Ste881/OTP-Verification-System/blob/main/capstone_project.ipynb\" target=\"_parent\"><img src=\"https://colab.research.google.com/assets/colab-badge.svg\" alt=\"Open In Colab\"/></a>"
      ]
    },
    {
      "cell_type": "markdown",
      "source": [
        "# Project Title: OTP Verification System\n",
        "\n",
        "**Problem Statement:**\n",
        "\n",
        "You are tasked with developing an OTP (One-Time Password) verification system in Python. The system should generate a 6-digit OTP and send it to the user's email address for verification. Upon receiving the OTP, the user should enter it into the system for validation. If the entered OTP matches the generated OTP, access should be granted; otherwise, access should be denied.\n",
        "\n",
        "**Project Requirements:**\n",
        "\n",
        "* Implement a function to generate a 6-digit OTP randomly.\n",
        "\n",
        "* Develop a function to simulate sending the OTP to the user's email address.\n",
        "\n",
        "* Create a function to prompt the user to enter the OTP received in their email.\n",
        "\n",
        "* Implement a function to verify if the entered OTP matches the generated OTP.\n",
        "\n",
        "* Ensure proper error handling and user-friendly prompts throughout the system.\n",
        "\n",
        "* Allow the user to retry OTP entry in case of incorrect input."
      ],
      "metadata": {
        "id": "qkrHYjI06Hk2"
      }
    },
    {
      "cell_type": "code",
      "source": [
        "import random\n",
        "min_value = 100000\n",
        "max_value = 999999\n",
        "\n",
        "#Implement a function to generate a 6-digit OTP randomly.\n",
        "def generate_otp():\n",
        "  otp = random.randint(min_value, max_value)\n",
        "  return otp"
      ],
      "metadata": {
        "id": "QIqVqzvBwo3p"
      },
      "execution_count": 36,
      "outputs": []
    },
    {
      "cell_type": "code",
      "source": [
        "import smtplib\n",
        "from email.mime.text import MIMEText\n",
        "\n",
        "def send_otp(sender_email, sender_password, recipient_email, subject, message):\n",
        "  #creating server\n",
        "  server = smtplib.SMTP('smtp.gmail.com', 587)\n",
        "  #to provide security to the server\n",
        "  server.starttls()\n",
        "  #to login\n",
        "  server.login(sender_email, sender_password)\n",
        "  #'srinidhi799@gmail.com','lznf zadm bfoh wklz'\n",
        "\n",
        "  # creating a MIMEText object with the email content #CHECK AGAIN\n",
        "  msg = MIMEText(message)\n",
        "  msg['Subject'] = subject\n",
        "  msg['From'] = sender_email\n",
        "  msg['To'] = recipient_email\n",
        "\n",
        "  #Send the email\n",
        "  server.sendmail(sender_email, valid_user_email, msg.as_string())\n",
        "  print(\"OTP has been sent to \"+user_email)\n",
        "\n",
        "  # Close the connection\n",
        "  server.quit()\n",
        "\n",
        "main_email = 'srinidhi799@gmail.com'\n",
        "main_password = 'lznf zadm bfoh wklz'\n",
        "user_email = 'projectsrinoo@gmail.com'\n",
        "user_subject = \"One Time Password(OTP) request\"\n",
        "#generating OTP with message to send to the user\n",
        "otp_message = \"Hello, your OTP is \"+ str(generate_otp())"
      ],
      "metadata": {
        "id": "rD_37zjj66GK"
      },
      "execution_count": 37,
      "outputs": []
    },
    {
      "cell_type": "code",
      "source": [
        "#Checking email for validity\n",
        "def email_verification(recipient_email):\n",
        "    email_check1 = [\"gmail\",\"hotmail\",\"yahoo\",\"outlook\"]\n",
        "    email_check2 = [\".com\",\".in\",\".org\",\".edu\",\".co.in\"]\n",
        "    count = 0\n",
        "\n",
        "    for domain in email_check1:\n",
        "        if domain in recipient_email:\n",
        "            count+=1\n",
        "    for site in email_check2:\n",
        "        if site in recipient_email:\n",
        "            count+=1\n",
        "\n",
        "    if \"@\" not in recipient_email or count!=2:\n",
        "        print(\"invalid email id\")\n",
        "        new_recipient_email = input(\"Please enter the correct email id:\")\n",
        "        email_verification(new_recipient_email)\n",
        "        return new_recipient_email\n",
        "    return recipient_email"
      ],
      "metadata": {
        "id": "q-yf8qEgFhQK"
      },
      "execution_count": 38,
      "outputs": []
    },
    {
      "cell_type": "code",
      "source": [
        "valid_user_email = email_verification(user_email)\n",
        "send_otp(main_email, main_password, valid_user_email, user_subject, otp_message)"
      ],
      "metadata": {
        "colab": {
          "base_uri": "https://localhost:8080/"
        },
        "id": "vdWeV1IVGCb-",
        "outputId": "32ef9c95-1580-40d4-84e4-d8b9fbfead24"
      },
      "execution_count": 39,
      "outputs": [
        {
          "output_type": "stream",
          "name": "stdout",
          "text": [
            "OTP has been sent to projectsrinoo@gmail.com\n"
          ]
        }
      ]
    }
  ]
}