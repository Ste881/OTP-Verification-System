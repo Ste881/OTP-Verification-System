{
  "nbformat": 4,
  "nbformat_minor": 0,
  "metadata": {
    "colab": {
      "provenance": [],
      "authorship_tag": "ABX9TyO+/p4rNZWGGO2IcZ5H68JG",
      "include_colab_link": true
    },
    "kernelspec": {
      "name": "python3",
      "display_name": "Python 3"
    },
    "language_info": {
      "name": "python"
    }
  },
  "cells": [
    {
      "cell_type": "markdown",
      "metadata": {
        "id": "view-in-github",
        "colab_type": "text"
      },
      "source": [
        "<a href=\"https://colab.research.google.com/github/Ste881/OTP-Verification-System/blob/main/capstone_project.ipynb\" target=\"_parent\"><img src=\"https://colab.research.google.com/assets/colab-badge.svg\" alt=\"Open In Colab\"/></a>"
      ]
    },
    {
      "cell_type": "markdown",
      "source": [
        "# Project Title: OTP Verification System\n",
        "\n",
        "**Problem Statement:**\n",
        "\n",
        "You are tasked with developing an OTP (One-Time Password) verification system in Python. The system should generate a 6-digit OTP and send it to the user's email address for verification. Upon receiving the OTP, the user should enter it into the system for validation. If the entered OTP matches the generated OTP, access should be granted; otherwise, access should be denied.\n",
        "\n",
        "**Project Requirements:**\n",
        "\n",
        "* Implement a function to generate a 6-digit OTP randomly.\n",
        "\n",
        "* Develop a function to simulate sending the OTP to the user's email address.\n",
        "\n",
        "* Create a function to prompt the user to enter the OTP received in their email.\n",
        "\n",
        "* Implement a function to verify if the entered OTP matches the generated OTP.\n",
        "\n",
        "* Ensure proper error handling and user-friendly prompts throughout the system.\n",
        "\n",
        "* Allow the user to retry OTP entry in case of incorrect input."
      ],
      "metadata": {
        "id": "qkrHYjI06Hk2"
      }
    },
    {
      "cell_type": "code",
      "source": [
        "import random\n",
        "min_value = 100000\n",
        "max_value = 999999\n",
        "\n",
        "#Implement a function to generate a 6-digit OTP randomly.\n",
        "def generate_otp():\n",
        "  otp = random.randint(min_value, max_value)\n",
        "  return otp"
      ],
      "metadata": {
        "colab": {
          "base_uri": "https://localhost:8080/"
        },
        "id": "QIqVqzvBwo3p",
        "outputId": "ae9fb99b-0d4e-41df-8911-19616c628cc1"
      },
      "execution_count": 4,
      "outputs": [
        {
          "output_type": "execute_result",
          "data": {
            "text/plain": [
              "298564"
            ]
          },
          "metadata": {},
          "execution_count": 4
        }
      ]
    },
    {
      "cell_type": "code",
      "source": [
        "#Develop a function to simulate sending the OTP to the user's email address.\n",
        "import smtplib\n",
        "\n",
        "#creating server\n",
        "server = smtplib.SMTP('smtp.gmail.com',587)\n",
        "#to provide security to the server\n",
        "server.starttls()"
      ],
      "metadata": {
        "colab": {
          "base_uri": "https://localhost:8080/"
        },
        "id": "-evF1uRx2URn",
        "outputId": "ee195f8a-e614-4e91-8d80-240ed24588f6"
      },
      "execution_count": 6,
      "outputs": [
        {
          "output_type": "execute_result",
          "data": {
            "text/plain": [
              "(220, b'2.0.0 Ready to start TLS')"
            ]
          },
          "metadata": {},
          "execution_count": 6
        }
      ]
    },
    {
      "cell_type": "code",
      "source": [],
      "metadata": {
        "id": "rD_37zjj66GK"
      },
      "execution_count": null,
      "outputs": []
    }
  ]
}