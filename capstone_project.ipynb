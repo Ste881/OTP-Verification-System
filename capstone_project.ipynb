{
  "nbformat": 4,
  "nbformat_minor": 0,
  "metadata": {
    "colab": {
      "provenance": [],
      "authorship_tag": "ABX9TyOxyjwINQQqRvpyKTxNM3e6",
      "include_colab_link": true
    },
    "kernelspec": {
      "name": "python3",
      "display_name": "Python 3"
    },
    "language_info": {
      "name": "python"
    }
  },
  "cells": [
    {
      "cell_type": "markdown",
      "metadata": {
        "id": "view-in-github",
        "colab_type": "text"
      },
      "source": [
        "<a href=\"https://colab.research.google.com/github/Ste881/OTP-Verification-System/blob/main/capstone_project.ipynb\" target=\"_parent\"><img src=\"https://colab.research.google.com/assets/colab-badge.svg\" alt=\"Open In Colab\"/></a>"
      ]
    },
    {
      "cell_type": "markdown",
      "source": [
        "# Project Title: OTP Verification System\n",
        "\n",
        "**Problem Statement:**\n",
        "\n",
        "You are tasked with developing an OTP (One-Time Password) verification system in Python. The system should generate a 6-digit OTP and send it to the user's email address for verification. Upon receiving the OTP, the user should enter it into the system for validation. If the entered OTP matches the generated OTP, access should be granted; otherwise, access should be denied.\n",
        "\n",
        "**Project Requirements:**\n",
        "\n",
        "* Implement a function to generate a 6-digit OTP randomly.\n",
        "\n",
        "* Develop a function to simulate sending the OTP to the user's email address.\n",
        "\n",
        "* Create a function to prompt the user to enter the OTP received in their email.\n",
        "\n",
        "* Implement a function to verify if the entered OTP matches the generated OTP.\n",
        "\n",
        "* Ensure proper error handling and user-friendly prompts throughout the system.\n",
        "\n",
        "* Allow the user to retry OTP entry in case of incorrect input."
      ],
      "metadata": {
        "id": "qkrHYjI06Hk2"
      }
    },
    {
      "cell_type": "code",
      "source": [
        "#use import in generate otp function\n",
        "import random\n",
        "#Develop a function to simulate sending the OTP to the user's email address.\n",
        "import smtplib\n",
        "from email.mime.text import MIMEText"
      ],
      "metadata": {
        "id": "QyKJ0O2fCSUG"
      },
      "execution_count": null,
      "outputs": []
    },
    {
      "cell_type": "code",
      "source": [
        "class OtpSystem:\n",
        "\n",
        "    def __init__(self, sender_email, sender_password, recipient_email=None):\n",
        "        self.__sender_email = sender_email\n",
        "        self.__sender_password = sender_password\n",
        "        if recipient_email is None:\n",
        "            recipient_email = input(\"Please enter your email ID: \")\n",
        "            recipient_email = self.email_validation(recipient_email)\n",
        "        self.__recipient_email = recipient_email\n",
        "\n",
        "    def get_sender_email(self):\n",
        "        return self.__sender_email\n",
        "\n",
        "    def get_sender_password(self):\n",
        "        return self.__sender_password\n",
        "\n",
        "    def get_recipient_email(self):\n",
        "        return self.__recipient_email\n",
        "\n",
        "    def generate_otp(self, min_value=100000, max_value=999999):\n",
        "        otp = random.randint(min_value, max_value)\n",
        "        return otp\n",
        "\n",
        "    def set_recipient_email(self, new_recipient_email):\n",
        "        self.__recipient_email = new_recipient_email\n",
        "\n",
        "    def email_validation(self, recipient_email):\n",
        "        email_check1 = [\"gmail\", \"hotmail\", \"yahoo\", \"outlook\"]\n",
        "        email_check2 = [\".com\", \".in\", \".org\", \".edu\", \".co.in\"]\n",
        "        count = 0\n",
        "\n",
        "        for domain in email_check1:\n",
        "            if domain in recipient_email:\n",
        "                count += 1\n",
        "        for site in email_check2:\n",
        "            if site in recipient_email:\n",
        "                count += 1\n",
        "\n",
        "        if \"@\" not in recipient_email or count != 2:\n",
        "            print(\"Invalid email id\")\n",
        "            recipient_email = input(\"Please enter the correct email id:\")\n",
        "            recipient_email = self.email_validation(recipient_email)\n",
        "        return recipient_email\n",
        "\n",
        "    def send_otp(self):\n",
        "        # creating server\n",
        "        server = smtplib.SMTP('smtp.gmail.com', 587)\n",
        "        # to provide security to the server\n",
        "        server.starttls()\n",
        "        # to login\n",
        "        server.login(self.__sender_email, self.__sender_password)\n",
        "\n",
        "        # generating OTP with message to send to the user\n",
        "        otp_message = \"Hello, your OTP is \" + str(self.generate_otp())\n",
        "\n",
        "        # creating a MIMEText object with the email content\n",
        "        msg = MIMEText(otp_message)\n",
        "        msg['Subject'] = \"One Time Password(OTP) request\"\n",
        "        msg['From'] = self.__sender_email\n",
        "        msg['To'] = self.__recipient_email\n",
        "\n",
        "        # Send the email\n",
        "        server.sendmail(self.__sender_email, self.__recipient_email, msg.as_string())\n",
        "        print(\"OTP has been sent to \" + self.__recipient_email)\n",
        "\n",
        "        # Close the connection\n",
        "        server.quit()"
      ],
      "metadata": {
        "id": "IuIUvS2lTAEH"
      },
      "execution_count": 101,
      "outputs": []
    },
    {
      "cell_type": "code",
      "source": [
        "sender_email = 'srinidhi799@gmail.com'\n",
        "sender_password = 'lznf zadm bfoh wklz'\n",
        "otp_sys = OtpSystem(sender_email, sender_password)\n",
        "otp_sys.send_otp()"
      ],
      "metadata": {
        "colab": {
          "base_uri": "https://localhost:8080/"
        },
        "id": "KQ4nIi_RTA94",
        "outputId": "a61bb098-dc33-40c3-d1a0-c118527cbb05"
      },
      "execution_count": 104,
      "outputs": [
        {
          "output_type": "stream",
          "name": "stdout",
          "text": [
            "Please enter your email ID: aaa\n",
            "Invalid email id\n",
            "Please enter the correct email id:projectsrinoo@gmail.com\n",
            "OTP has been sent to projectsrinoo@gmail.com\n"
          ]
        }
      ]
    },
    {
      "cell_type": "code",
      "source": [
        "#Create a function to prompt the user to enter the OTP received in their email."
      ],
      "metadata": {
        "id": "lWGdLCq0zucE"
      },
      "execution_count": null,
      "outputs": []
    }
  ]
}