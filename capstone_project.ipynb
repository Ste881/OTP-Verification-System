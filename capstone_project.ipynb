{
  "nbformat": 4,
  "nbformat_minor": 0,
  "metadata": {
    "colab": {
      "provenance": [],
      "authorship_tag": "ABX9TyMEK5f7H+9RsWWTWBSEQpqE",
      "include_colab_link": true
    },
    "kernelspec": {
      "name": "python3",
      "display_name": "Python 3"
    },
    "language_info": {
      "name": "python"
    }
  },
  "cells": [
    {
      "cell_type": "markdown",
      "metadata": {
        "id": "view-in-github",
        "colab_type": "text"
      },
      "source": [
        "<a href=\"https://colab.research.google.com/github/Ste881/OTP-Verification-System/blob/main/capstone_project.ipynb\" target=\"_parent\"><img src=\"https://colab.research.google.com/assets/colab-badge.svg\" alt=\"Open In Colab\"/></a>"
      ]
    },
    {
      "cell_type": "markdown",
      "source": [
        "# Project Title: OTP Verification System\n",
        "\n",
        "**Problem Statement:**\n",
        "\n",
        "You are tasked with developing an OTP (One-Time Password) verification system in Python. The system should generate a 6-digit OTP and send it to the user's email address for verification. Upon receiving the OTP, the user should enter it into the system for validation. If the entered OTP matches the generated OTP, access should be granted; otherwise, access should be denied.\n",
        "\n",
        "**Project Requirements:**\n",
        "\n",
        "* Implement a function to generate a 6-digit OTP randomly.\n",
        "\n",
        "* Develop a function to simulate sending the OTP to the user's email address.\n",
        "\n",
        "* Create a function to prompt the user to enter the OTP received in their email.\n",
        "\n",
        "* Implement a function to verify if the entered OTP matches the generated OTP.\n",
        "\n",
        "* Ensure proper error handling and user-friendly prompts throughout the system.\n",
        "\n",
        "* Allow the user to retry OTP entry in case of incorrect input."
      ],
      "metadata": {
        "id": "qkrHYjI06Hk2"
      }
    },
    {
      "cell_type": "code",
      "source": [
        "#use import in generate otp function\n",
        "import random\n",
        "#Develop a function to simulate sending the OTP to the user's email address.\n",
        "import smtplib\n",
        "from email.mime.text import MIMEText"
      ],
      "metadata": {
        "id": "QyKJ0O2fCSUG"
      },
      "execution_count": null,
      "outputs": []
    },
    {
      "cell_type": "code",
      "source": [
        "class OtpSystem:\n",
        "\n",
        "  def __init__(self, sender_email, sender_password, recipient_email = email_verification(input(\"Please enter your email ID: \"))):\n",
        "    self.__sender_email = sender_email\n",
        "    self.__sender_password = sender_password\n",
        "    self.__recipient_email = recipient_email\n",
        "\n",
        "  def get_sender_email(self):\n",
        "    return self.__sender_email\n",
        "  def get_sender_password(self):\n",
        "    return self.__sender_password\n",
        "  def get_recipient_email(self):\n",
        "    return self.__recipient_email\n",
        "\n",
        "  def generate_otp(self, min_value = 100000, max_value = 999999):\n",
        "    otp = random.randint(min_value, max_value)\n",
        "    return otp\n",
        "\n",
        "  def set_recipient_email(self, new_recipient_email):\n",
        "    self.__recipient_email = new_recipient_email\n",
        "\n",
        "  def email_verification(self, recipient_email):\n",
        "    email_check1 = [\"gmail\",\"hotmail\",\"yahoo\",\"outlook\"]\n",
        "    email_check2 = [\".com\",\".in\",\".org\",\".edu\",\".co.in\"]\n",
        "    count = 0\n",
        "\n",
        "    for domain in email_check1:\n",
        "        if domain in recipient_email:\n",
        "            count+=1\n",
        "    for site in email_check2:\n",
        "        if site in recipient_email:\n",
        "            count+=1\n",
        "\n",
        "    if \"@\" not in recipient_email or count!=2:\n",
        "        print(\"invalid email id\")\n",
        "        new_recipient_email = input(\"Please enter the correct email id:\")\n",
        "        email_verification(new_recipient_email)\n",
        "        def set_recipient_email(self, new_recipient_email):\n",
        "                  self.__recipient_email = new_recipient_email\n",
        "    return recipient_email"
      ],
      "metadata": {
        "colab": {
          "base_uri": "https://localhost:8080/"
        },
        "id": "98wlHd5n-Gk0",
        "outputId": "3b0b6512-d095-43c4-9ace-39853d2417ce"
      },
      "execution_count": 63,
      "outputs": [
        {
          "name": "stdout",
          "output_type": "stream",
          "text": [
            "Please enter your email ID: aaa\n",
            "invalid email id\n",
            "Please enter the correct email id:srini@gmail.com\n"
          ]
        }
      ]
    },
    {
      "cell_type": "code",
      "source": [
        "#setting my details\n",
        "p1 = OtpSystem('srinidhi799@gmail.com','lznf zadm bfoh wklz')"
      ],
      "metadata": {
        "id": "jqhFlTuGBKQY"
      },
      "execution_count": 64,
      "outputs": []
    },
    {
      "cell_type": "code",
      "source": [
        "#checking\n",
        "print(f\"The sender is {p1.get_sender_email()} and the recipient email is {p1.email_verification(p1.get_recipient_email())}\")"
      ],
      "metadata": {
        "colab": {
          "base_uri": "https://localhost:8080/"
        },
        "id": "HcnZE7ZMEMXa",
        "outputId": "febf69b5-528c-4816-889f-5d439c120e6f"
      },
      "execution_count": 65,
      "outputs": [
        {
          "output_type": "stream",
          "name": "stdout",
          "text": [
            "The sender is srinidhi799@gmail.com and the recipient email is srini@gmail.com\n"
          ]
        }
      ]
    },
    {
      "cell_type": "code",
      "source": [
        "#TO BE CHANGED\n",
        "def send_otp(sender_email, sender_password, recipient_email, message):\n",
        "  #creating server\n",
        "  server = smtplib.SMTP('smtp.gmail.com', 587)\n",
        "  #to provide security to the server\n",
        "  server.starttls()\n",
        "  #to login\n",
        "  server.login(sender_email, sender_password)\n",
        "  #'srinidhi799@gmail.com','lznf zadm bfoh wklz'\n",
        "\n",
        "  # creating a MIMEText object with the email content #CHECK AGAIN\n",
        "  msg = MIMEText(message)\n",
        "  msg['Subject'] = \"One Time Password(OTP) request\"\n",
        "  msg['From'] = sender_email\n",
        "  msg['To'] = recipient_email\n",
        "\n",
        "  #Send the email\n",
        "  server.sendmail(sender_email, valid_user_email, msg.as_string())\n",
        "  print(\"OTP has been sent to \"+user_email)\n",
        "\n",
        "  # Close the connection\n",
        "  server.quit()\n",
        "\n",
        "main_email = 'srinidhi799@gmail.com'\n",
        "main_password = 'lznf zadm bfoh wklz'\n",
        "user_email = get_user_email()\n",
        "#generating OTP with message to send to the user\n",
        "otp_message = \"Hello, your OTP is \"+ str(generate_otp())"
      ],
      "metadata": {
        "id": "rD_37zjj66GK",
        "colab": {
          "base_uri": "https://localhost:8080/"
        },
        "outputId": "8cf9eb5e-94d8-4e86-cced-3aadaef15fe2"
      },
      "execution_count": 7,
      "outputs": [
        {
          "name": "stdout",
          "output_type": "stream",
          "text": [
            "Please enter your email ID: projectsrinoo@gmail.com\n"
          ]
        }
      ]
    },
    {
      "cell_type": "code",
      "source": [
        "  send_otp(main_email, main_password, valid_user_email, otp_message)"
      ],
      "metadata": {
        "colab": {
          "base_uri": "https://localhost:8080/"
        },
        "id": "vdWeV1IVGCb-",
        "outputId": "80eb37bc-7886-4ec9-cea1-140e0a05ceaf"
      },
      "execution_count": 9,
      "outputs": [
        {
          "output_type": "stream",
          "name": "stdout",
          "text": [
            "OTP has been sent to projectsrinoo@gmail.com\n"
          ]
        }
      ]
    },
    {
      "cell_type": "code",
      "source": [
        "#Create a function to prompt the user to enter the OTP received in their email."
      ],
      "metadata": {
        "id": "lWGdLCq0zucE"
      },
      "execution_count": null,
      "outputs": []
    }
  ]
}