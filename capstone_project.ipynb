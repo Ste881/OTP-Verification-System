{
  "nbformat": 4,
  "nbformat_minor": 0,
  "metadata": {
    "colab": {
      "provenance": [],
      "authorship_tag": "ABX9TyNanrhWSQb0T8UJKSc7zxGD",
      "include_colab_link": true
    },
    "kernelspec": {
      "name": "python3",
      "display_name": "Python 3"
    },
    "language_info": {
      "name": "python"
    }
  },
  "cells": [
    {
      "cell_type": "markdown",
      "metadata": {
        "id": "view-in-github",
        "colab_type": "text"
      },
      "source": [
        "<a href=\"https://colab.research.google.com/github/Ste881/OTP-Verification-System/blob/main/capstone_project.ipynb\" target=\"_parent\"><img src=\"https://colab.research.google.com/assets/colab-badge.svg\" alt=\"Open In Colab\"/></a>"
      ]
    },
    {
      "cell_type": "markdown",
      "source": [
        "# Project Title: OTP Verification System\n",
        "\n",
        "**Problem Statement:**\n",
        "\n",
        "You are tasked with developing an OTP (One-Time Password) verification system in Python. The system should generate a 6-digit OTP and send it to the user's email address for verification. Upon receiving the OTP, the user should enter it into the system for validation. If the entered OTP matches the generated OTP, access should be granted; otherwise, access should be denied.\n",
        "\n",
        "**Project Requirements:**\n",
        "\n",
        "* Implement a function to generate a 6-digit OTP randomly.\n",
        "\n",
        "* Develop a function to simulate sending the OTP to the user's email address.\n",
        "\n",
        "* Create a function to prompt the user to enter the OTP received in their email.\n",
        "\n",
        "* Implement a function to verify if the entered OTP matches the generated OTP.\n",
        "\n",
        "* Ensure proper error handling and user-friendly prompts throughout the system.\n",
        "\n",
        "* Allow the user to retry OTP entry in case of incorrect input."
      ],
      "metadata": {
        "id": "qkrHYjI06Hk2"
      }
    },
    {
      "cell_type": "code",
      "source": [
        "#Use import in generate otp function\n",
        "import random\n",
        "#Develop a function to simulate sending the OTP to the user's email address.\n",
        "import smtplib\n",
        "from email.mime.text import MIMEText"
      ],
      "metadata": {
        "id": "QyKJ0O2fCSUG"
      },
      "execution_count": 125,
      "outputs": []
    },
    {
      "cell_type": "code",
      "source": [
        "class OtpSystem:\n",
        "\n",
        "    #Initiating constructor\n",
        "    def __init__(self, sender_email, sender_password, recipient_email=None, generated_otp = None):\n",
        "        self.__sender_email = sender_email\n",
        "        self.__sender_password = sender_password\n",
        "        if recipient_email is None:\n",
        "            recipient_email = input(\"Please enter your email ID: \")\n",
        "            recipient_email = self.email_validation(recipient_email)\n",
        "        self.__recipient_email = recipient_email\n",
        "        self.__generated_otp = generated_otp\n",
        "\n",
        "    #Using getter function to get values of private variables 'sender_email', 'sender_password'\n",
        "    def get_sender_email(self):\n",
        "        return self.__sender_email\n",
        "\n",
        "    def get_sender_password(self):\n",
        "        return self.__sender_password\n",
        "\n",
        "    def get_recipient_email(self):\n",
        "        return self.__recipient_email\n",
        "\n",
        "    def get_generated_otp(self):\n",
        "        return self.__generated_otp\n",
        "\n",
        "    #IMPLEMENTING A FUNCTION TO GENERATE A 6-DIGIT OTP RANDOMLY.\n",
        "    def generate_otp(self, min_value=100000, max_value=999999):\n",
        "        self.__generated_otp = random.randint(min_value, max_value)\n",
        "        return self.__generated_otp\n",
        "\n",
        "    def set_recipient_email(self, new_recipient_email):\n",
        "        self.__recipient_email = new_recipient_email\n",
        "\n",
        "\n",
        "    def email_validation(self, recipient_email):\n",
        "        email_check1 = [\"gmail\", \"hotmail\", \"yahoo\", \"outlook\"]\n",
        "        email_check2 = [\".com\", \".in\", \".org\", \".edu\", \".co.in\"]\n",
        "        count = 0\n",
        "\n",
        "        for domain in email_check1:\n",
        "            if domain in recipient_email:\n",
        "                count += 1\n",
        "        for site in email_check2:\n",
        "            if site in recipient_email:\n",
        "                count += 1\n",
        "\n",
        "        if \"@\" not in recipient_email or count != 2:\n",
        "            print(\"Invalid email id\")\n",
        "            recipient_email = input(\"Please enter the correct email id:\")\n",
        "            recipient_email = self.email_validation(recipient_email)\n",
        "        return recipient_email\n",
        "\n",
        "    #DEVELOPING A FUNCTION TO SIMULATE SENDING THE OTP TO THE USER'S EMAIL ADDRESS.\n",
        "    def send_otp(self):\n",
        "        # creating server\n",
        "        server = smtplib.SMTP('smtp.gmail.com', 587)\n",
        "        # to provide security to the server\n",
        "        server.starttls()\n",
        "        # to login\n",
        "        server.login(self.__sender_email, self.__sender_password)\n",
        "\n",
        "        # generating OTP with message to send to the user\n",
        "        otp_message = \"Hello, your OTP is \" + str(self.generate_otp())\n",
        "\n",
        "        # creating a MIMEText object with the email content\n",
        "        msg = MIMEText(otp_message)\n",
        "        msg['Subject'] = \"One Time Password(OTP) request\"\n",
        "        msg['From'] = self.__sender_email\n",
        "        msg['To'] = self.__recipient_email\n",
        "\n",
        "        # Send the email\n",
        "        server.sendmail(self.__sender_email, self.__recipient_email, msg.as_string())\n",
        "        print(\"OTP has been sent to \" + self.__recipient_email)\n",
        "\n",
        "        # Close the connection\n",
        "        server.quit()\n",
        "\n",
        "    #CREATE A FUNCTION TO PROMPT THE USER TO ENTER THE OTP RECEIVED IN THEIR EMAIL.\n",
        "    def enter_otp(self):\n",
        "      otp = input(\"Please enter the OTP received in your email: \")\n",
        "      return otp\n",
        "\n",
        "   #IMPLEMENT A FUNCTION TO VERIFY IF THE ENTERED OTP MATCHES THE GENERATED OTP.\n",
        "    def verify_otp(self, entered_otp):\n",
        "      if str(self.__generated_otp) == str(entered_otp):\n",
        "          return True\n",
        "      else:\n",
        "          return False"
      ],
      "metadata": {
        "id": "IuIUvS2lTAEH"
      },
      "execution_count": 126,
      "outputs": []
    },
    {
      "cell_type": "code",
      "source": [
        "sender_email = 'srinidhi799@gmail.com'\n",
        "sender_password = 'lznf zadm bfoh wklz'\n",
        "\n",
        "#Sending OTP\n",
        "otp_sys = OtpSystem(sender_email, sender_password)\n",
        "otp_sys.send_otp()\n",
        "\n",
        "#ALLOW THE USER TO RETRY OTP IN CASE OF INCORRECT INPUT\n",
        "count = 0\n",
        "attempt = 3\n",
        "while count < 3:\n",
        "    #Prompting the user to enter OTP\n",
        "    entered_otp = otp_sys.enter_otp()\n",
        "    print(\"Entered OTP:\", entered_otp)\n",
        "\n",
        "    #Verifying the entered OTP\n",
        "    if otp_sys.verify_otp(entered_otp):\n",
        "        print(\"OTP verification successful. Access granted.\")\n",
        "        break  #Exit the loop if OTP verification is successful\n",
        "\n",
        "    #Giving OTP reattempts\n",
        "    else:\n",
        "      if count == 2:\n",
        "        print(\"Account locked\")\n",
        "        break\n",
        "      else:\n",
        "        print(\"OTP verification failed. Access denied. Please retry.\")\n",
        "        count += 1\n",
        "        attempt -= 1\n",
        "        print(\"Attempt left: \", attempt)"
      ],
      "metadata": {
        "colab": {
          "base_uri": "https://localhost:8080/"
        },
        "id": "KQ4nIi_RTA94",
        "outputId": "aef283d2-7cd2-446c-bf7c-d060be4e5d56"
      },
      "execution_count": 135,
      "outputs": [
        {
          "output_type": "stream",
          "name": "stdout",
          "text": [
            "Please enter your email ID: sdvsfvhsdg@gmail.com\n",
            "OTP has been sent to sdvsfvhsdg@gmail.com\n",
            "Please enter the OTP received in your email: 111222\n",
            "Entered OTP: 111222\n",
            "OTP verification failed. Access denied. Please retry.\n",
            "Attempt left:  2\n",
            "Please enter the OTP received in your email: 222111\n",
            "Entered OTP: 222111\n",
            "OTP verification failed. Access denied. Please retry.\n",
            "Attempt left:  1\n",
            "Please enter the OTP received in your email: 222111\n",
            "Entered OTP: 222111\n",
            "Account locked\n"
          ]
        }
      ]
    }
  ]
}