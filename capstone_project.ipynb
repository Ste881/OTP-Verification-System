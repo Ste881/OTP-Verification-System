{
  "nbformat": 4,
  "nbformat_minor": 0,
  "metadata": {
    "colab": {
      "provenance": [],
      "authorship_tag": "ABX9TyMzLDZ+uqEy60SNi2UkUdTi",
      "include_colab_link": true
    },
    "kernelspec": {
      "name": "python3",
      "display_name": "Python 3"
    },
    "language_info": {
      "name": "python"
    }
  },
  "cells": [
    {
      "cell_type": "markdown",
      "metadata": {
        "id": "view-in-github",
        "colab_type": "text"
      },
      "source": [
        "<a href=\"https://colab.research.google.com/github/Ste881/OTP-Verification-System/blob/main/capstone_project.ipynb\" target=\"_parent\"><img src=\"https://colab.research.google.com/assets/colab-badge.svg\" alt=\"Open In Colab\"/></a>"
      ]
    },
    {
      "cell_type": "markdown",
      "source": [
        "# Project Title: OTP Verification System\n",
        "\n",
        "**Problem Statement:**\n",
        "\n",
        "You are tasked with developing an OTP (One-Time Password) verification system in Python. The system should generate a 6-digit OTP and send it to the user's email address for verification. Upon receiving the OTP, the user should enter it into the system for validation. If the entered OTP matches the generated OTP, access should be granted; otherwise, access should be denied.\n",
        "\n",
        "**Project Requirements:**\n",
        "\n",
        "* Implement a function to generate a 6-digit OTP randomly.\n",
        "\n",
        "* Develop a function to simulate sending the OTP to the user's email address.\n",
        "\n",
        "* Create a function to prompt the user to enter the OTP received in their email.\n",
        "\n",
        "* Implement a function to verify if the entered OTP matches the generated OTP.\n",
        "\n",
        "* Ensure proper error handling and user-friendly prompts throughout the system.\n",
        "\n",
        "* Allow the user to retry OTP entry in case of incorrect input."
      ],
      "metadata": {
        "id": "qkrHYjI06Hk2"
      }
    },
    {
      "cell_type": "code",
      "source": [
        "import random\n",
        "min_value = 100000\n",
        "max_value = 999999\n",
        "\n",
        "#Implement a function to generate a 6-digit OTP randomly.\n",
        "def generate_otp():\n",
        "  otp = random.randint(min_value, max_value)\n",
        "  return otp"
      ],
      "metadata": {
        "id": "QIqVqzvBwo3p"
      },
      "execution_count": 8,
      "outputs": []
    },
    {
      "cell_type": "code",
      "source": [
        "#Develop a function to simulate sending the OTP to the user's email address.\n",
        "import smtplib\n",
        "\n",
        "#creating server\n",
        "server = smtplib.SMTP('smtp.gmail.com',587)\n",
        "#to provide security to the server\n",
        "server.starttls()\n",
        "#to login\n",
        "server.login('srinidhi799@gmail.com','lznf zadm bfoh wklz')\n",
        "#generating OTP with message to send to the user\n",
        "otp_msg = \"Hello, your OTP is \"+ str(generate_otp())\n",
        "server.sendmail('srinidhi799@gmail.com','projectsrinoo@gmail.com', otp_msg)\n",
        "server.quit()"
      ],
      "metadata": {
        "colab": {
          "base_uri": "https://localhost:8080/"
        },
        "id": "-evF1uRx2URn",
        "outputId": "fce17539-ddcb-4050-c59b-da28ff1e42e4"
      },
      "execution_count": 9,
      "outputs": [
        {
          "output_type": "execute_result",
          "data": {
            "text/plain": [
              "(221,\n",
              " b'2.0.0 closing connection gq5-20020a170906e24500b00a46be5c78f4sm4778802ejb.142 - gsmtp')"
            ]
          },
          "metadata": {},
          "execution_count": 9
        }
      ]
    },
    {
      "cell_type": "code",
      "source": [
        "import smtplib\n",
        "from email.mime.text import MIMEText\n",
        "\n",
        "\n",
        "def send_otp(sender_email, sender_password, recipient_email, subject, message):\n",
        "  #creating server\n",
        "  server = smtplib.SMTP('smtp.gmail.com', 587)\n",
        "  #to provide security to the server\n",
        "  server.starttls()\n",
        "  #to login\n",
        "  server.login(sender_email, sender_password)\n",
        "  #'srinidhi799@gmail.com','lznf zadm bfoh wklz'\n",
        "\n",
        "  # creating a MIMEText object with the email content\n",
        "  msg = MIMEText(message)\n",
        "  msg['Subject'] = subject\n",
        "  msg['From'] = sender_email\n",
        "  msg['To'] = recipient_email\n",
        "\n",
        "  #Send the email\n",
        "  server.sendmail(sender_email, recipient_email, msg.as_string())\n",
        "\n",
        "  # Close the connection\n",
        "  server.quit()\n",
        "\n",
        "\n",
        "\n"
      ],
      "metadata": {
        "id": "rD_37zjj66GK"
      },
      "execution_count": null,
      "outputs": []
    }
  ]
}